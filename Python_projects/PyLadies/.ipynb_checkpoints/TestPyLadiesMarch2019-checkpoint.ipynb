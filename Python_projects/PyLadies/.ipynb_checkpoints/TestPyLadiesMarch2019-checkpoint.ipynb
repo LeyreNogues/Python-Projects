{
 "cells": [
  {
   "cell_type": "code",
   "execution_count": 1,
   "metadata": {},
   "outputs": [],
   "source": [
    "import time\n",
    "import threading\n",
    "import os\n",
    "import re\n",
    "import logging\n",
    "import multiprocessing\n",
    "\n",
    "\n",
    "logging.basicConfig(level=logging.DEBUG,format='(%(threadName)-9s) %(message)s',)"
   ]
  },
  {
   "cell_type": "markdown",
   "metadata": {},
   "source": [
    "# Threads"
   ]
  },
  {
   "cell_type": "markdown",
   "metadata": {},
   "source": [
    "## Definition by class statement"
   ]
  },
  {
   "cell_type": "code",
   "execution_count": 2,
   "metadata": {},
   "outputs": [
    {
     "name": "stdout",
     "output_type": "stream",
     "text": [
      "Counting down 10\n",
      "Counting down 9\n",
      "Counting down 8\n",
      "Counting down 7\n",
      "Counting down 6\n",
      "Counting down 5\n",
      "Counting down 4\n",
      "Counting down 3\n",
      "Counting down 2\n",
      "Counting down 1\n"
     ]
    }
   ],
   "source": [
    "class CountdownThread(threading.Thread):\n",
    "\t\n",
    "\tdef __init__(self,count):\n",
    "\t\tthreading.Thread.__init__(self)\n",
    "\t\tself.count = count\n",
    " \n",
    "\tdef run(self):\n",
    "\t\twhile self.count > 0:\n",
    " \t\t\tprint \"Counting down\", self.count\n",
    " \t\t\tself.count -= 1\n",
    "\t\t\ttime.sleep(1)\n",
    "\t\treturn\n",
    " \n",
    " \n",
    "t1 = CountdownThread(10) # Create the thread object\n",
    "t1.start() # Launch the thread\n",
    "\n",
    "#t2 = CountdownThread(20) # Create another thread\n",
    "#t2.start() # Launch"
   ]
  },
  {
   "cell_type": "markdown",
   "metadata": {},
   "source": [
    "## Definition with a function and the class threading.Thread"
   ]
  },
  {
   "cell_type": "code",
   "execution_count": 3,
   "metadata": {},
   "outputs": [
    {
     "name": "stdout",
     "output_type": "stream",
     "text": [
      "Counting down 10\n",
      "Counting down 9\n",
      "Counting down 8\n",
      "Counting down 7\n",
      "Counting down 6\n",
      "Counting down 5\n",
      "Counting down 4\n",
      "Counting down 3\n",
      "Counting down 2\n",
      "Counting down 1\n"
     ]
    }
   ],
   "source": [
    "def countdown(count):\n",
    "\twhile count > 0:\n",
    " \t\tprint \"Counting down\", count\n",
    " \t\tcount -= 1\n",
    " \t\ttime.sleep(1)\n",
    " \t\t\n",
    "\n",
    "t1 = threading.Thread(target=countdown,args=(10,))\n",
    "t1.start()\n",
    "#print 'Have I finished counting?'"
   ]
  },
  {
   "cell_type": "markdown",
   "metadata": {},
   "source": [
    "# Joining threads"
   ]
  },
  {
   "cell_type": "code",
   "execution_count": 4,
   "metadata": {},
   "outputs": [],
   "source": [
    "def printer():\n",
    "    for _ in range(3):\n",
    "        time.sleep(1)\n",
    "        print \"Hello!\"\n"
   ]
  },
  {
   "cell_type": "code",
   "execution_count": 5,
   "metadata": {},
   "outputs": [
    {
     "name": "stdout",
     "output_type": "stream",
     "text": [
      "goodbye\n",
      "Hello!\n",
      "Hello!\n",
      "Hello!\n"
     ]
    }
   ],
   "source": [
    "# Without join\n",
    "thread=threading.Thread(target=printer)\n",
    "thread.start()\n",
    "print \"goodbye\""
   ]
  },
  {
   "cell_type": "code",
   "execution_count": 6,
   "metadata": {},
   "outputs": [
    {
     "name": "stdout",
     "output_type": "stream",
     "text": [
      "Hello!\n",
      "Hello!\n",
      "Hello!\n",
      "goodbye\n"
     ]
    }
   ],
   "source": [
    "# With join\n",
    "thread=threading.Thread(target=printer)\n",
    "thread.start()\n",
    "thread.join()\n",
    "print \"goodbye\""
   ]
  },
  {
   "cell_type": "markdown",
   "metadata": {},
   "source": [
    "# Processes\n"
   ]
  },
  {
   "cell_type": "markdown",
   "metadata": {},
   "source": [
    "## Definition by class statement"
   ]
  },
  {
   "cell_type": "code",
   "execution_count": 7,
   "metadata": {},
   "outputs": [
    {
     "name": "stdout",
     "output_type": "stream",
     "text": [
      "Counting down 10\n",
      "Counting down 20\n",
      "Counting down 9\n",
      "Counting down 19\n",
      "Counting down 8\n",
      "Counting down 18\n",
      "Counting down 7\n",
      "Counting down 17\n",
      "Counting down 6\n",
      "Counting down 16\n",
      "Counting down 15\n",
      "Counting down 5\n",
      "Counting down 14\n",
      "Counting down 4\n",
      "Counting down 3\n",
      "Counting down 13\n",
      "Counting down 12\n",
      "Counting down 2\n",
      "Counting down 1\n",
      "Counting down 11\n",
      "Counting down 10\n",
      "Counting down 9\n",
      "Counting down 8\n",
      "Counting down 7\n",
      "Counting down 6\n",
      "Counting down 5\n",
      "Counting down 4\n",
      "Counting down 3\n",
      "Counting down 2\n",
      "Counting down 1\n"
     ]
    }
   ],
   "source": [
    "class CountdownProcess(multiprocessing.Process):\n",
    "\t\n",
    "\tdef __init__(self,count):\n",
    " \t\tmultiprocessing. Process.__init__(self)\n",
    " \t\tself.count = count\n",
    " \n",
    " \tdef run(self):\n",
    "\t\twhile self.count > 0:\n",
    " \t\t\tprint \"Counting down\", self.count\n",
    " \t\t\tself.count -= 1\n",
    " \t\t\ttime.sleep(5)\n",
    " \t\treturn\n",
    " \t\t\n",
    " \t\t\n",
    "if __name__ == '__main__':\n",
    "\tp1 = CountdownProcess(10) # Create the process object\n",
    " \tp1.start() # Launch the process\n",
    "\tp2 = CountdownProcess(20) # Create another process\n",
    "\tp2.start() # Launch \t\t"
   ]
  },
  {
   "cell_type": "markdown",
   "metadata": {},
   "source": [
    "## Definition with a function and the class multiprocessing.Process"
   ]
  },
  {
   "cell_type": "code",
   "execution_count": 8,
   "metadata": {},
   "outputs": [
    {
     "name": "stdout",
     "output_type": "stream",
     "text": [
      "Counting down 10\n",
      "Counting down 9\n",
      "Counting down 8\n",
      "Counting down 7\n",
      "Counting down 6\n",
      "Counting down 5\n",
      "Counting down 4\n",
      "Counting down 3\n",
      "Counting down 2\n",
      "Counting down 1\n"
     ]
    }
   ],
   "source": [
    "def countdown(count):\n",
    "\twhile count > 0:\n",
    "\t\tprint \"Counting down\", count\n",
    "\t\tcount -= 1\n",
    "\t\ttime.sleep(5)\n",
    "\n",
    "if __name__ == '__main__':\n",
    "\tp1 = multiprocessing.Process(target=countdown,args=(10,))\n",
    "\tp1.start() \t\t"
   ]
  },
  {
   "cell_type": "code",
   "execution_count": null,
   "metadata": {},
   "outputs": [],
   "source": []
  },
  {
   "cell_type": "code",
   "execution_count": null,
   "metadata": {},
   "outputs": [],
   "source": []
  }
 ],
 "metadata": {
  "kernelspec": {
   "display_name": "Python2.7 pyladiesMarch ",
   "language": "python",
   "name": "pyladiesmarch"
  },
  "language_info": {
   "codemirror_mode": {
    "name": "ipython",
    "version": 2
   },
   "file_extension": ".py",
   "mimetype": "text/x-python",
   "name": "python",
   "nbconvert_exporter": "python",
   "pygments_lexer": "ipython2",
   "version": "2.7.16"
  }
 },
 "nbformat": 4,
 "nbformat_minor": 2
}
