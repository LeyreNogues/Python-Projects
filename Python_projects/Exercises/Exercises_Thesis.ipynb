{
 "cells": [
  {
   "cell_type": "code",
   "execution_count": null,
   "metadata": {},
   "outputs": [],
   "source": [
    "#This notebook if to practise some programming skill performed during the thesis in C++ that I would like to\n",
    "#dominate also in Python :)"
   ]
  },
  {
   "cell_type": "code",
   "execution_count": 34,
   "metadata": {},
   "outputs": [],
   "source": [
    "#Import of the libraries\n",
    "import random\n",
    "import numpy as np\n",
    "import matplotlib.pyplot as plt\n",
    "from scipy import stats"
   ]
  },
  {
   "cell_type": "code",
   "execution_count": 62,
   "metadata": {
    "scrolled": true
   },
   "outputs": [
    {
     "name": "stdout",
     "output_type": "stream",
     "text": [
      "[73 79 56  4 48 35 60 98 74 72 63 44 61 48 84 59 20 76 56 41  5 18 70 50\n",
      " 56 98 48 53  5 80 35 91 33 12 82 15  6 84 90 28  9 80  0  5 69 57 99  4\n",
      " 76 30 30 76 25 32 90 32 63 25 79 53 66 71 33  8 58 50 94 24 25 64 25 92\n",
      " 78 47 39  5 43 18 39 96  4 34 50 96 57 16 99  1 51  1 27 33 32 31 66 86\n",
      " 74 93 89 81]\n",
      "<type 'tuple'>\n",
      "(array([18., 22., 20., 20., 20.]), array([  0,  20,  40,  60,  80, 100]), <a list of 5 Patch objects>)\n",
      "3\n",
      "[18. 22. 20. 20. 20.]\n",
      "18.0\n",
      "<a list of 5 Patch objects>\n",
      "Skewness: -0.0579062957456\n",
      "Content in bin 2: 22.0\n",
      "Bin the value belongs to 2\n",
      "Bins from values: [1 4 1 3]\n"
     ]
    },
    {
     "data": {
      "text/plain": [
       "<matplotlib.legend.Legend at 0x7f9f333923d0>"
      ]
     },
     "execution_count": 62,
     "metadata": {},
     "output_type": "execute_result"
    },
    {
     "data": {
      "image/png": "[encoded data removed]",
      "text/plain": [
       "<Figure size 432x288 with 1 Axes>"
      ]
     },
     "metadata": {
      "needs_background": "light"
     },
     "output_type": "display_data"
    }
   ],
   "source": [
    "#Simulation of events\n",
    "# 1-Simulate events randomly in an interval (with Numpy)\n",
    "np.random.seed(21)\n",
    "ran_array = np.random.randint(0,100,100)\n",
    "print(ran_array)\n",
    "\n",
    "histo = plt.hist(ran_array,[0,20,40,60,80,100], color='dodgerblue', rwidth=0.9, label='First array of random numbers')\n",
    "plt.grid(axis='y', alpha=0.75)\n",
    "plt.xlabel('Number')\n",
    "plt.ylabel('Frequency')\n",
    "plt.title('My First Histogram')\n",
    "\n",
    "\n",
    "print(type(histo))\n",
    "print(histo)\n",
    "print(len(histo))\n",
    "print(histo[0])\n",
    "print(histo[0][0])\n",
    "print(histo[2])\n",
    "\n",
    "#Skewness of the histogram -> library for all statistical functions over a ser of data (an array)\n",
    "skwness = stats.skew(a=ran_array)\n",
    "print('Skewness: {}' .format(skwness))\n",
    "\n",
    "#Eval a given bin (e.g. bin 2, counting starts in 0)\n",
    "print('Content in bin 2: {}' .format(histo[0][1]))\n",
    "\n",
    "#Get to which bin a value belongs to\n",
    "value = 25.\n",
    "bin = np.digitize(25,histo[1])\n",
    "print('Bin the value belongs to {}' .format(bin))\n",
    "#The same can be done for an array of values\n",
    "values = [5,67,14,45]\n",
    "bins = np.digitize(values,histo[1])\n",
    "print('Bins from values: {}' .format(bins))\n",
    "\n",
    "#Print another array over the first one\n",
    "ran_array_two = np.random.randint(0,100,100)\n",
    "histo2 = plt.hist(ran_array_two, [0,20,40,60,80,100], color = 'y', rwidth = 0.9, stacked=True, label= 'Second array of random numbers')\n",
    "\n",
    "#And another one!\n",
    "ran_array_three = np.random.randint(0,100,100)\n",
    "histo3 = plt.hist(ran_array_three, [0,20,40,60,80,100], color = 'k', rwidth = 0.9, stacked=True, label= 'Third array of random numbers')\n",
    "\n",
    "#Legend for all of them (automatic detection of labels)\n",
    "plt.legend()\n",
    "\n",
    "\n"
   ]
  },
  {
   "cell_type": "code",
   "execution_count": null,
   "metadata": {},
   "outputs": [],
   "source": [
    "# 1-Simulate events following a function"
   ]
  }
 ],
 "metadata": {
  "kernelspec": {
   "display_name": "Python 2",
   "language": "python",
   "name": "python2"
  },
  "language_info": {
   "codemirror_mode": {
    "name": "ipython",
    "version": 2
   },
   "file_extension": ".py",
   "mimetype": "text/x-python",
   "name": "python",
   "nbconvert_exporter": "python",
   "pygments_lexer": "ipython2",
   "version": "2.7.12"
  }
 },
 "nbformat": 4,
 "nbformat_minor": 2
}
