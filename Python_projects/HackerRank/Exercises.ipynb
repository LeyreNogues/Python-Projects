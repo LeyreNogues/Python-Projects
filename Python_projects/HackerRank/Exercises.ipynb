{
 "cells": [
  {
   "cell_type": "code",
   "execution_count": 3,
   "metadata": {},
   "outputs": [],
   "source": [
    "import math\n",
    "import os\n",
    "import random\n",
    "import re\n",
    "import sys"
   ]
  },
  {
   "cell_type": "code",
   "execution_count": 2,
   "metadata": {},
   "outputs": [
    {
     "name": "stdout",
     "output_type": "stream",
     "text": [
      "10\n",
      "4\n",
      "20\n",
      "3\n",
      "50\n",
      "1\n",
      "30\n",
      "1\n"
     ]
    },
    {
     "data": {
      "text/plain": [
       "3"
      ]
     },
     "execution_count": 2,
     "metadata": {},
     "output_type": "execute_result"
    }
   ],
   "source": [
    "# Complete the sockMerchant function below.\n",
    "def sockMerchant(n, ar):\n",
    "    total_pairs = 0\n",
    "    mylist = list(set(ar))\n",
    "    for item in mylist:\n",
    "        print(item)\n",
    "        print (ar.count(item))\n",
    "        total_pairs+= ar.count(item)/2\n",
    "    \n",
    "    return total_pairs\n",
    "\n",
    "\n",
    "\n",
    "total = 9\n",
    "colors = [10, 20, 20, 10, 10, 30, 50, 10, 20]\n",
    "sockMerchant(total, colors)\n"
   ]
  },
  {
   "cell_type": "code",
   "execution_count": 3,
   "metadata": {},
   "outputs": [
    {
     "name": "stdout",
     "output_type": "stream",
     "text": [
      "Length of array: 6\n",
      "Current index top: 0 \n",
      "Jump number: 0\n",
      "Current index top: 2 \n",
      "Jump number: 1\n",
      "Current index top: 4 \n",
      "Jump number: 2\n"
     ]
    },
    {
     "data": {
      "text/plain": [
       "3"
      ]
     },
     "execution_count": 3,
     "metadata": {},
     "output_type": "execute_result"
    }
   ],
   "source": [
    "# Complete the jumpingOnClouds function below.\n",
    "def jumpingOnClouds(c):\n",
    "    jumps = 0\n",
    "    current_index = 0\n",
    "    print('Length of array: %d' %len(c))\n",
    "    while current_index < (len(c)-1):\n",
    "        print(\"Current index top: %d \" %current_index)\n",
    "        print('Jump number: %d' %jumps)\n",
    "        if current_index == (len(c)-2):\n",
    "            jumps+=1\n",
    "            break\n",
    "        elif c[current_index + 2] == 0:\n",
    "            jumps+=1\n",
    "            current_index+=2\n",
    "        elif c[current_index + 2] == 1:\n",
    "            jumps+=1\n",
    "            current_index+=1\n",
    "        \n",
    "    return jumps\n",
    "        \n",
    "clouds = [0, 0, 0, 1, 0, 0]\n",
    "jumpingOnClouds(clouds)\n",
    "        "
   ]
  },
  {
   "cell_type": "code",
   "execution_count": 28,
   "metadata": {},
   "outputs": [
    {
     "data": {
      "text/plain": [
       "1"
      ]
     },
     "execution_count": 28,
     "metadata": {},
     "output_type": "execute_result"
    }
   ],
   "source": [
    "# Complete the countingValleys function below.\n",
    "def countingValleys(n, s):\n",
    "    path = list(s)\n",
    "    level = 0\n",
    "    valleys = 0    \n",
    "    for i in xrange(len(path)):\n",
    "        if level == 0 and path[i] == 'D':\n",
    "            valleys += 1      \n",
    "        if path[i] == 'U':\n",
    "            level += 1\n",
    "        else:\n",
    "            level -= 1\n",
    "    return valleys\n",
    "            \n",
    "    \n",
    "    \n",
    "steps = 8  \n",
    "trial = 'UDDDUDUU'\n",
    "countingValleys(steps,trial)"
   ]
  },
  {
   "cell_type": "code",
   "execution_count": 67,
   "metadata": {},
   "outputs": [
    {
     "data": {
      "text/plain": [
       "51574523448"
      ]
     },
     "execution_count": 67,
     "metadata": {},
     "output_type": "execute_result"
    }
   ],
   "source": [
    "def repeatedString(s, n):\n",
    "    a_count = s.count('a') \n",
    "    reps = n//len(s) \n",
    "    rest = n % len(s) \n",
    "    count = a_count * reps + s[0:rest].count('a') \n",
    "    return count\n",
    "    \n",
    "    \n",
    "string = 'kmretasscityylpdhuwjirnqimlkcgxubxmsxpypgzxtenweirknjtasxtvxemtwxuarabssvqdnktqadhyktagjxoanknhgilnm'\n",
    "times = 736778906400\n",
    "\n",
    "repeatedString(string,times)\n",
    "\n",
    "#Do not create a big string, it will take too much memory\n"
   ]
  },
  {
   "cell_type": "code",
   "execution_count": null,
   "metadata": {},
   "outputs": [],
   "source": []
  },
  {
   "cell_type": "code",
   "execution_count": 37,
   "metadata": {},
   "outputs": [
    {
     "data": {
      "text/plain": [
       "19"
      ]
     },
     "execution_count": 37,
     "metadata": {},
     "output_type": "execute_result"
    }
   ],
   "source": [
    "# Complete the hourglassSum function below.\n",
    "def hourglassSum(arr):\n",
    "    maximum = -100\n",
    "    for i in range(4):\n",
    "        for j in range(4):\n",
    "            #print(\"i = %d, j= %d\" %(i,j))\n",
    "            value = arr[i][j]+arr[i][j+1]+arr[i][j+2]+arr[i+1][j+1]+arr[i+2][j]+arr[i+2][j+1]+arr[i+2][j+2]\n",
    "            if(value > maximum):\n",
    "                maximum = value\n",
    "    \n",
    "    return maximum\n",
    "\n",
    "\n",
    "\n",
    "final = [[1, 1, 1, 0, 0, 0],[0, 1, 0, 0, 0, 0],[1, 1, 1, 0, 0, 0],[0, 0, 2, 4, 4, 0],[0, 0, 0, 2, 0, 0],[0, 0, 1, 2, 4, 0]]\n",
    "hourglassSum(final)\n"
   ]
  },
  {
   "cell_type": "code",
   "execution_count": 1,
   "metadata": {},
   "outputs": [
    {
     "data": {
      "text/plain": [
       "[5, 1, 2, 3, 4]"
      ]
     },
     "execution_count": 1,
     "metadata": {},
     "output_type": "execute_result"
    }
   ],
   "source": [
    "# Complete the rotLeft function below.\n",
    "def rotLeft(a, d):\n",
    "    rest = d%len(a)\n",
    "    return a[rest:]+a[0:rest]\n",
    "\n",
    "rotations = 4\n",
    "array = [1, 2, 3, 4, 5]\n",
    "#print(array)\n",
    "#print(len(array))\n",
    "#rest = rotations%len(array)\n",
    "#print(rest)\n",
    "#print(array[rest:]+array[0:rest])\n",
    "\n",
    "rotLeft(array,rotations)"
   ]
  },
  {
   "cell_type": "code",
   "execution_count": 6,
   "metadata": {},
   "outputs": [
    {
     "name": "stdout",
     "output_type": "stream",
     "text": [
      "Too chaotic\n",
      "7\n"
     ]
    }
   ],
   "source": [
    "def minimumBribes(q):  \n",
    "    def checkqeue(arr):\n",
    "        bribes = 0\n",
    "        for a in arr:\n",
    "            if arr.index(a) < (a-3):\n",
    "                return 'Too chaotic'\n",
    "            for i in range(len(arr)):\n",
    "                if ((arr.index(a) > i) and (a < arr[i])):\n",
    "                    bribes+=1\n",
    "        return bribes\n",
    "    \n",
    "    number = q[0][0]\n",
    "    for i in xrange(0,number+1,2):  \n",
    "        array = real_input[i+2][:]\n",
    "        print(checkqeue(array))\n",
    "\n",
    "    \n",
    "\n",
    "            \n",
    "\n",
    "#real_input = [[2],[5],[2,1,5,3,4],[5],[2,5,1,3,4]]\n",
    "real_input = [[2],[8],[5, 1, 2, 3, 7, 8, 6, 4],[8],[1, 2, 5, 3, 7, 8, 6, 4]]\n",
    "#real_input = [[1],[8],[1, 2, 5, 3, 4, 7, 8, 6]]\n",
    "\n",
    "        \n",
    "minimumBribes(real_input)"
   ]
  }
 ],
 "metadata": {
  "kernelspec": {
   "display_name": "Python 2",
   "language": "python",
   "name": "python2"
  },
  "language_info": {
   "codemirror_mode": {
    "name": "ipython",
    "version": 2
   },
   "file_extension": ".py",
   "mimetype": "text/x-python",
   "name": "python",
   "nbconvert_exporter": "python",
   "pygments_lexer": "ipython2",
   "version": "2.7.12"
  }
 },
 "nbformat": 4,
 "nbformat_minor": 2
}
