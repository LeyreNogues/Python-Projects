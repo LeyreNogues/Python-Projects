{
 "cells": [
  {
   "cell_type": "code",
   "execution_count": 3,
   "metadata": {},
   "outputs": [],
   "source": [
    "import math\n",
    "import os\n",
    "import random\n",
    "import re\n",
    "import sys"
   ]
  },
  {
   "cell_type": "code",
   "execution_count": 2,
   "metadata": {},
   "outputs": [
    {
     "name": "stdout",
     "output_type": "stream",
     "text": [
      "10\n",
      "4\n",
      "20\n",
      "3\n",
      "50\n",
      "1\n",
      "30\n",
      "1\n"
     ]
    },
    {
     "data": {
      "text/plain": [
       "3"
      ]
     },
     "execution_count": 2,
     "metadata": {},
     "output_type": "execute_result"
    }
   ],
   "source": [
    "#John works at a clothing store. He has a large pile of socks that he must pair by color for sale. \n",
    "#Given an array of integers representing the color of each sock, determine how many pairs of socks \n",
    "#with matching colors there are.\n",
    "\n",
    "# Complete the sockMerchant function below.\n",
    "def sockMerchant(n, ar):\n",
    "    total_pairs = 0\n",
    "    mylist = list(set(ar))\n",
    "    for item in mylist:\n",
    "        print(item)\n",
    "        print (ar.count(item))\n",
    "        total_pairs+= ar.count(item)/2\n",
    "    \n",
    "    return total_pairs\n",
    "\n",
    "\n",
    "\n",
    "total = 9\n",
    "colors = [10, 20, 20, 10, 10, 30, 50, 10, 20]\n",
    "sockMerchant(total, colors)\n"
   ]
  },
  {
   "cell_type": "code",
   "execution_count": 3,
   "metadata": {},
   "outputs": [
    {
     "name": "stdout",
     "output_type": "stream",
     "text": [
      "Length of array: 6\n",
      "Current index top: 0 \n",
      "Jump number: 0\n",
      "Current index top: 2 \n",
      "Jump number: 1\n",
      "Current index top: 4 \n",
      "Jump number: 2\n"
     ]
    },
    {
     "data": {
      "text/plain": [
       "3"
      ]
     },
     "execution_count": 3,
     "metadata": {},
     "output_type": "execute_result"
    }
   ],
   "source": [
    "#Emma is playing a new mobile game that starts with consecutively numbered clouds. Some of the clouds are \n",
    "#thunderheads (1) and others are cumulus (0). She can jump on any cumulus cloud having a number that is equal\n",
    "#to the number of the current cloud plus 1 or 2. She must avoid the thunderheads. Determine the minimum number\n",
    "#of jumps it will take Emma to jump from her starting postion to the last cloud. It is always possible to win the game. \n",
    "\n",
    "\n",
    "# Complete the jumpingOnClouds function below.\n",
    "def jumpingOnClouds(c):\n",
    "    jumps = 0\n",
    "    current_index = 0\n",
    "    print('Length of array: %d' %len(c))\n",
    "    while current_index < (len(c)-1):\n",
    "        print(\"Current index top: %d \" %current_index)\n",
    "        print('Jump number: %d' %jumps)\n",
    "        if current_index == (len(c)-2):\n",
    "            jumps+=1\n",
    "            break\n",
    "        elif c[current_index + 2] == 0:\n",
    "            jumps+=1\n",
    "            current_index+=2\n",
    "        elif c[current_index + 2] == 1:\n",
    "            jumps+=1\n",
    "            current_index+=1\n",
    "        \n",
    "    return jumps\n",
    "        \n",
    "clouds = [0, 0, 0, 1, 0, 0]\n",
    "jumpingOnClouds(clouds)\n",
    "        "
   ]
  },
  {
   "cell_type": "code",
   "execution_count": 28,
   "metadata": {},
   "outputs": [
    {
     "data": {
      "text/plain": [
       "1"
      ]
     },
     "execution_count": 28,
     "metadata": {},
     "output_type": "execute_result"
    }
   ],
   "source": [
    "#Gary is an avid hiker. He tracks his hikes meticulously, paying close attention to small details like topography. \n",
    "#During his last hike he took exactly n steps. For every step he took, he noted if it was an uphill, U, or a downhill,\n",
    "#D, step. Given Gary's sequence of up and down steps during his last hike, find and print the number of valleys he \n",
    "#walked through\n",
    "\n",
    "\n",
    "# Complete the countingValleys function below.\n",
    "def countingValleys(n, s):\n",
    "    path = list(s)\n",
    "    level = 0\n",
    "    valleys = 0    \n",
    "    for i in xrange(len(path)):\n",
    "        if level == 0 and path[i] == 'D':\n",
    "            valleys += 1      \n",
    "        if path[i] == 'U':\n",
    "            level += 1\n",
    "        else:\n",
    "            level -= 1\n",
    "    return valleys\n",
    "            \n",
    "    \n",
    "    \n",
    "steps = 8  \n",
    "trial = 'UDDDUDUU'\n",
    "countingValleys(steps,trial)"
   ]
  },
  {
   "cell_type": "code",
   "execution_count": 67,
   "metadata": {},
   "outputs": [
    {
     "data": {
      "text/plain": [
       "51574523448"
      ]
     },
     "execution_count": 67,
     "metadata": {},
     "output_type": "execute_result"
    }
   ],
   "source": [
    "#Lilah has a string, s, of lowercase English letters that she repeated infinitely many times.\n",
    "#Given an integer, n, find and print the number of letter a's in the first n letters of Lilah's infinite string.\n",
    "\n",
    "# Complete the repeatedString function below.\n",
    "def repeatedString(s, n):\n",
    "    a_count = s.count('a') \n",
    "    reps = n//len(s) \n",
    "    rest = n % len(s) \n",
    "    count = a_count * reps + s[0:rest].count('a') \n",
    "    return count\n",
    "    \n",
    "    \n",
    "string = 'kmretasscityylpdhuwjirnqimlkcgxubxmsxpypgzxtenweirknjtasxtvxemtwxuarabssvqdnktqadhyktagjxoanknhgilnm'\n",
    "times = 736778906400\n",
    "\n",
    "repeatedString(string,times)\n",
    "\n",
    "#Do not create a big string, it will take too much memory\n"
   ]
  },
  {
   "cell_type": "code",
   "execution_count": 37,
   "metadata": {},
   "outputs": [
    {
     "data": {
      "text/plain": [
       "19"
      ]
     },
     "execution_count": 37,
     "metadata": {},
     "output_type": "execute_result"
    }
   ],
   "source": [
    "#Given a 6x6 2D array, we define an hourglass in to be a subset of values with indices falling in this pattern (I).\n",
    "#There are 16 hourglasses in the array , and an hourglass sum is the sum of an hourglass' values. \n",
    "#Calculate the hourglass sum for every hourglass in , then print the maximum hourglass sum.\n",
    "\n",
    "\n",
    "# Complete the hourglassSum function below.\n",
    "def hourglassSum(arr):\n",
    "    maximum = -100\n",
    "    for i in range(4):\n",
    "        for j in range(4):\n",
    "            #print(\"i = %d, j= %d\" %(i,j))\n",
    "            value = arr[i][j]+arr[i][j+1]+arr[i][j+2]+arr[i+1][j+1]+arr[i+2][j]+arr[i+2][j+1]+arr[i+2][j+2]\n",
    "            if(value > maximum):\n",
    "                maximum = value\n",
    "    \n",
    "    return maximum\n",
    "\n",
    "\n",
    "\n",
    "final = [[1, 1, 1, 0, 0, 0],[0, 1, 0, 0, 0, 0],[1, 1, 1, 0, 0, 0],[0, 0, 2, 4, 4, 0],[0, 0, 0, 2, 0, 0],[0, 0, 1, 2, 4, 0]]\n",
    "hourglassSum(final)\n"
   ]
  },
  {
   "cell_type": "code",
   "execution_count": 1,
   "metadata": {},
   "outputs": [
    {
     "data": {
      "text/plain": [
       "[5, 1, 2, 3, 4]"
      ]
     },
     "execution_count": 1,
     "metadata": {},
     "output_type": "execute_result"
    }
   ],
   "source": [
    "#Given an array of integers and a number, d, perform d left rotations on the array. \n",
    "#Return the updated array to be printed as a single line of space-separated integers.\n",
    "\n",
    "# Complete the rotLeft function below.\n",
    "def rotLeft(a, d):\n",
    "    rest = d%len(a)\n",
    "    return a[rest:]+a[0:rest]\n",
    "\n",
    "rotations = 4\n",
    "array = [1, 2, 3, 4, 5]\n",
    "#print(array)\n",
    "#print(len(array))\n",
    "#rest = rotations%len(array)\n",
    "#print(rest)\n",
    "#print(array[rest:]+array[0:rest])\n",
    "\n",
    "rotLeft(array,rotations)"
   ]
  },
  {
   "cell_type": "code",
   "execution_count": 42,
   "metadata": {},
   "outputs": [
    {
     "name": "stdout",
     "output_type": "stream",
     "text": [
      "4\n",
      "CPU times: user 0 ns, sys: 0 ns, total: 0 ns\n",
      "Wall time: 581 µs\n"
     ]
    }
   ],
   "source": [
    "#It's New Year's Day and everyone's in line for the Wonderland rollercoaster ride! \n",
    "#There are a number of people queued up, and each person wears a sticker indicating their initial position in the queue.\n",
    "#Any person in the queue can bribe the person directly in front of them to swap positions. If two people swap positions, \n",
    "#they still wear the same sticker denoting their original places in line. \n",
    "#Fascinated by this chaotic queue, you decide you must know the minimum number of bribes that took place to get the\n",
    "#queue into its current state!\n",
    "\n",
    "\n",
    "%%time\n",
    "# Complete the minimumBribes function below.\n",
    "def minimumBribes(Q):  \n",
    "    #bribes = 0\n",
    "    #for i,a in enumerate(q):\n",
    "       # if i < (a-3):\n",
    "        #    print 'Too chaotic'\n",
    "       # for j in range(len(q)):\n",
    "      #      if (i > j) and (a < q[j]):\n",
    "     #           bribes+=1\n",
    "    #print(bribes)\n",
    "    moves = 0 \n",
    "    for i,P in enumerate(Q):\n",
    "        if P - i > 3:\n",
    "            print(\"Too chaotic\")\n",
    "            return\n",
    "\n",
    "        for j in range(max(P-2,0),i):\n",
    "            if Q[j] > P:\n",
    "                moves += 1\n",
    "    print(moves)\n",
    "                \n",
    "\n",
    "#real_input = [[2],[5],[2,1,5,3,4],[5],[2,5,1,3,4]]\n",
    "real_input = [1, 2, 5, 3, 4, 7, 8, 6] #, 8, 1, 2, 5, 3, 7, 8, 6, 4]\n",
    "#real_input = [[1],[8],[1, 2, 5, 3, 4, 7, 8, 6]]\n",
    "\n",
    "        \n",
    "minimumBribes(real_input)"
   ]
  },
  {
   "cell_type": "code",
   "execution_count": 5,
   "metadata": {
    "scrolled": true
   },
   "outputs": [
    {
     "name": "stdout",
     "output_type": "stream",
     "text": [
      "FizzBuzz\n",
      "1\n",
      "2\n",
      "Fizz\n",
      "4\n",
      "Buzz\n",
      "Fizz\n",
      "7\n",
      "8\n",
      "Fizz\n",
      "Buzz\n",
      "11\n",
      "Fizz\n",
      "13\n",
      "14\n",
      "FizzBuzz\n",
      "16\n",
      "17\n",
      "Fizz\n",
      "19\n",
      "Buzz\n",
      "Fizz\n",
      "22\n",
      "23\n",
      "Fizz\n",
      "Buzz\n",
      "26\n",
      "Fizz\n",
      "28\n",
      "29\n",
      "FizzBuzz\n",
      "31\n",
      "32\n",
      "Fizz\n",
      "34\n",
      "Buzz\n",
      "Fizz\n",
      "37\n",
      "38\n",
      "Fizz\n",
      "Buzz\n",
      "41\n",
      "Fizz\n",
      "43\n",
      "44\n",
      "FizzBuzz\n",
      "46\n",
      "47\n",
      "Fizz\n",
      "49\n",
      "Buzz\n",
      "Fizz\n",
      "52\n",
      "53\n",
      "Fizz\n",
      "Buzz\n",
      "56\n",
      "Fizz\n",
      "58\n",
      "59\n",
      "FizzBuzz\n",
      "61\n",
      "62\n",
      "Fizz\n",
      "64\n",
      "Buzz\n",
      "Fizz\n",
      "67\n",
      "68\n",
      "Fizz\n",
      "Buzz\n",
      "71\n",
      "Fizz\n",
      "73\n",
      "74\n",
      "FizzBuzz\n",
      "76\n",
      "77\n",
      "Fizz\n",
      "79\n",
      "Buzz\n",
      "Fizz\n",
      "82\n",
      "83\n",
      "Fizz\n",
      "Buzz\n",
      "86\n",
      "Fizz\n",
      "88\n",
      "89\n",
      "FizzBuzz\n",
      "91\n",
      "92\n",
      "Fizz\n",
      "94\n",
      "Buzz\n",
      "Fizz\n",
      "97\n",
      "98\n",
      "Fizz\n"
     ]
    }
   ],
   "source": [
    "#An example of a very typical exercise that is asked at interviews.\n",
    "#Print number from 0 to 100. If the number is multiple of 3, print 'Fizz' instead, if is is multiple of 5, print 'Buzz'.\n",
    "#If it is multiple of both, print 'FizzBuzz'\n",
    "\n",
    "def FizzBuzz():\n",
    "    for i in range(100):\n",
    "        a = i\n",
    "        if (i%3==0) and (i%5==0):\n",
    "            a='FizzBuzz'\n",
    "        elif (i%3==0):\n",
    "            a='Fizz'\n",
    "        elif (i%5==0):\n",
    "            a='Buzz'        \n",
    "        print(a)\n",
    "        \n",
    "FizzBuzz()\n",
    "        "
   ]
  },
  {
   "cell_type": "code",
   "execution_count": 15,
   "metadata": {},
   "outputs": [
    {
     "name": "stdout",
     "output_type": "stream",
     "text": [
      "1\n",
      "6\n",
      "16\n",
      "28\n",
      "139\n"
     ]
    },
    {
     "data": {
      "text/plain": [
       "4"
      ]
     },
     "execution_count": 15,
     "metadata": {},
     "output_type": "execute_result"
    }
   ],
   "source": [
    "#Mark and Jane are very happy after having their first child. Their son loves toys, so Mark wants to buy some. \n",
    "#There are a number of different toys lying in front of him, tagged with their prices. Mark has only a certain \n",
    "#amount to spend, and he wants to maximize the number of toys he buys with this money.\n",
    "#Given a list of prices and an amount to spend, what is the maximum number of toys Mark can buy? \n",
    "\n",
    "# Complete the maximumToys function below.\n",
    "def maximumToys(prices, k):\n",
    "    prices.sort()\n",
    "    final_price = 0\n",
    "    presents = 0\n",
    "    index= 0\n",
    "    \n",
    "    while final_price<=k:\n",
    "        final_price+=prices[index]\n",
    "        index+=1\n",
    "        presents+=1\n",
    "        \n",
    "    return presents-1\n",
    "        \n",
    "    \n",
    "money = 50\n",
    "prices = [1, 12, 5, 111, 200, 1000, 10]\n",
    "\n",
    "        \n",
    "maximumToys(prices,money)"
   ]
  },
  {
   "cell_type": "code",
   "execution_count": 66,
   "metadata": {},
   "outputs": [
    {
     "data": {
      "text/plain": [
       "2"
      ]
     },
     "execution_count": 66,
     "metadata": {},
     "output_type": "execute_result"
    }
   ],
   "source": [
    "#HackerLand National Bank has a simple policy for warning clients about possible fraudulent account activity. \n",
    "#If the amount spent by a client on a particular day is greater than or equal to the client's median spending\n",
    "#for a trailing number of days, they send the client a notification about potential fraud. The bank doesn't \n",
    "#send the client any notifications until they have at least that trailing number of prior days' transaction data.\n",
    "#Given the number of trailing days (d) and a client's total daily expenditures for a period of days, find and print\n",
    "#the number of times the client will receive a notification over all days.\n",
    "\n",
    "\n",
    "# Complete the activityNotifications function below.\n",
    "def activityNotifications(expenditure, d):\n",
    "    def mean(array):\n",
    "        #print('Len array in mean function: %d' %len(array))\n",
    "        if (len(array))%2 == 0:\n",
    "            #print('array is even')\n",
    "            array.sort()\n",
    "            #print(array)\n",
    "            return (float(array[int(len(array)/2)]+ array[int(len(array)/2)-1])/2)\n",
    "        else:\n",
    "            #print('array is odd')\n",
    "            array.sort()\n",
    "            #print(array)\n",
    "            return array[int(len(array)/2)]\n",
    "        \n",
    "        \n",
    "    index = 0\n",
    "    notifications=0\n",
    "    while index<(len(expenditure)-d):\n",
    "        mini_array = expenditure[index:index+d]\n",
    "        #print(mini_array)\n",
    "        #print('compared to: %d ' %expenses[index+days])\n",
    "        #print(mean(mini_array))\n",
    "        if (mean(mini_array)*2) <= expenditure[index+d]:\n",
    "            notifications+=1\n",
    "        index+=1\n",
    "    \n",
    "    #print('Notifications: %d' %notifications)\n",
    "    return notifications\n",
    "        \n",
    "        \n",
    "        \n",
    "        \n",
    "\n",
    "days = 5\n",
    "expenses = [2, 3, 4, 2, 3, 6, 8, 4, 5]\n",
    "\n",
    "\n",
    "#mean(expenses)\n",
    "activityNotifications(expenses, days)"
   ]
  }
 ],
 "metadata": {
  "kernelspec": {
   "display_name": "Python 2",
   "language": "python",
   "name": "python2"
  },
  "language_info": {
   "codemirror_mode": {
    "name": "ipython",
    "version": 2
   },
   "file_extension": ".py",
   "mimetype": "text/x-python",
   "name": "python",
   "nbconvert_exporter": "python",
   "pygments_lexer": "ipython2",
   "version": "2.7.12"
  }
 },
 "nbformat": 4,
 "nbformat_minor": 2
}
